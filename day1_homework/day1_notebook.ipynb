{
 "cells": [
  {
   "cell_type": "code",
   "execution_count": 1,
   "metadata": {},
   "outputs": [],
   "source": [
    "f = open('SRR072893.sam')\n",
    "print(f)"
   ]
  },
  {
   "cell_type": "code",
   "execution_count": 2,
   "metadata": {
    "scrolled": false
   },
   "outputs": [
    {
     "name": "stdout",
     "output_type": "stream",
     "text": [
      "SRR072893.1692271\t0\t2L\t7583\t60\t40M\t*\t0\t0\tAGAGAACCCACGTTTGAACAAGTATCGGCGTGTGGACAAC\t<9799:>A>?:?:?>A?>><1;297-00+/C@@C8/>@49\tAS:i:0\tXN:i:0\tXM:i:0\tXO:i:0\tXG:i:0\tNM:i:0\tMD:Z:40\tYT:Z:UU\tNH:i:1\n",
      "\n"
     ]
    }
   ],
   "source": [
    "l = f.readline()\n",
    "print(l)"
   ]
  },
  {
   "cell_type": "code",
   "execution_count": 3,
   "metadata": {},
   "outputs": [
    {
     "name": "stdout",
     "output_type": "stream",
     "text": [
      "1999999\n"
     ]
    }
   ],
   "source": [
    "# (1) Count number of alignmentslength = 0\n",
    "length = 0\n",
    "for alignment in f: \n",
    "    length += 1\n",
    "print(length)   "
   ]
  },
  {
   "cell_type": "code",
   "execution_count": 4,
   "metadata": {},
   "outputs": [
    {
     "name": "stdout",
     "output_type": "stream",
     "text": [
      "<_io.TextIOWrapper name='SRR072893.sam' mode='r' encoding='UTF-8'>\n",
      "1682786\n"
     ]
    }
   ],
   "source": [
    "# (2) Count number of alignments that match perfectly to the genome\n",
    "f = open('SRR072893.sam')\n",
    "print(f)\n",
    "perfect = 0\n",
    "for line in f:\n",
    "    fields = line.rstrip('\\n\\r').split()\n",
    "    if fields[16] == \"NM:i:0\":\n",
    "        perfect += 1\n",
    "print(perfect)"
   ]
  },
  {
   "cell_type": "code",
   "execution_count": 5,
   "metadata": {},
   "outputs": [],
   "source": [
    "# (3) For the first 10 alignments, print just the column indicating which chromosome a given read aligns to\n",
    "#HINT: .split()"
   ]
  },
  {
   "cell_type": "code",
   "execution_count": 6,
   "metadata": {},
   "outputs": [
    {
     "name": "stdout",
     "output_type": "stream",
     "text": [
      "2L\n",
      "2L\n",
      "2L\n",
      "2L\n",
      "2L\n",
      "2L\n",
      "2L\n",
      "2L\n",
      "2L\n",
      "2L\n"
     ]
    }
   ],
   "source": [
    "f = open('SRR072893.sam')\n",
    "line_number = 0 \n",
    "for line in f:\n",
    "    fields = line.rstrip('\\n\\r').split()\n",
    "    chromosomes = fields[2]\n",
    "    line_number += 1\n",
    "    if line_number <= 10:\n",
    "        print(chromosomes)\n",
    "        \n"
   ]
  },
  {
   "cell_type": "code",
   "execution_count": 7,
   "metadata": {},
   "outputs": [],
   "source": [
    "# (4) Calculate average MAPQ score across all reads\n",
    "#HINT: think about string and numeric type conversions\n",
    "f = open('SRR072893.sam')\n",
    "mapq = 0\n",
    "for line in f:\n",
    "    fields = line.rstrip('\\n\\r').split()\n",
    "    col_mapq = fields[4]\n",
    "    col_mapq = int(col_mapq)\n",
    "    mapq += col_mapq\n"
   ]
  },
  {
   "cell_type": "code",
   "execution_count": 8,
   "metadata": {},
   "outputs": [
    {
     "name": "stdout",
     "output_type": "stream",
     "text": [
      "59.6407825\n"
     ]
    }
   ],
   "source": [
    "f = open('SRR072893.sam')\n",
    "length = 0\n",
    "for alignment in f: \n",
    "    length += 1\n",
    "print(mapq/length)\n"
   ]
  },
  {
   "cell_type": "code",
   "execution_count": 9,
   "metadata": {},
   "outputs": [
    {
     "ename": "IndentationError",
     "evalue": "expected an indented block (<ipython-input-9-d82af1bc13c0>, line 10)",
     "output_type": "error",
     "traceback": [
      "\u001b[0;36m  File \u001b[0;32m\"<ipython-input-9-d82af1bc13c0>\"\u001b[0;36m, line \u001b[0;32m10\u001b[0m\n\u001b[0;31m    if chrom_align >= 10000 and chrom_align<= 20000:\u001b[0m\n\u001b[0m     ^\u001b[0m\n\u001b[0;31mIndentationError\u001b[0m\u001b[0;31m:\u001b[0m expected an indented block\n"
     ]
    }
   ],
   "source": [
    "# (5) Count number of reads that start their alignment on chromosome 2L between base 10000 and 20000 (inclusive)\n",
    "Chrom_read_count = 0\n",
    "twoL_chromomosome = []\n",
    "for line in f:\n",
    "    fields = line.rstrip('\\n\\r').split()\n",
    "    if fields[2] == \"2L\":\n",
    "        twoL_chromosome = twoL_chromosomomes.append(fields)\n",
    "for line in twoL_chromosome: \n",
    "        \n",
    "if chrom_align >= 10000 and chrom_align<= 20000:\n",
    "    Chrom_read_count += 1\n",
    "     \n"
   ]
  },
  {
   "cell_type": "code",
   "execution_count": null,
   "metadata": {},
   "outputs": [],
   "source": []
  }
 ],
 "metadata": {
  "kernelspec": {
   "display_name": "Python 3",
   "language": "python",
   "name": "python3"
  },
  "language_info": {
   "codemirror_mode": {
    "name": "ipython",
    "version": 3
   },
   "file_extension": ".py",
   "mimetype": "text/x-python",
   "name": "python",
   "nbconvert_exporter": "python",
   "pygments_lexer": "ipython3",
   "version": "3.6.10"
  }
 },
 "nbformat": 4,
 "nbformat_minor": 4
}
