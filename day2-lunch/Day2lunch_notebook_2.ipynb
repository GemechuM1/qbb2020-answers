{
 "cells": [
  {
   "cell_type": "code",
   "execution_count": 8,
   "metadata": {},
   "outputs": [],
   "source": [
    "#Parse this file, and output a new file with two tab separated columns, \n",
    "#the first containg the FlyBase ID and the second the Uniprot ID (AC). \n",
    "#This is your parsed mapping file.\n",
    "\n",
    "fs = open('/Users/cmdb/qbb2020-answers/day2-lunch/fly.txt')\n",
    "newflytext = open('newfly.txt', 'w')\n",
    "\n",
    "flybase_id = []\n",
    "uiprot_id = []\n",
    "for line in fs: \n",
    "    if 'DROME' in line: \n",
    "        fly_list = line.rstrip('\\n\\r').split()\n",
    "        flybase_id = fly_list[4]\n",
    "        uniprot_id = fly_list[3]\n",
    "        newline = flybase_id + \"\\t\" + uniprot_id \n",
    "        newflytext.write(newline)\n",
    "        print(flybase_id , uniprot_id)\n",
    "\n",
    "newflytext\n",
    "newlfytext.write(flybase_id, uniprot_id)\n",
    "\n"
   ]
  },
  {
   "cell_type": "code",
   "execution_count": 4,
   "metadata": {},
   "outputs": [],
   "source": [
    "ctabfile1 = open('/Users/cmdb/data/results/stringtie/SRR072893/t_data.ctab')"
   ]
  },
  {
   "cell_type": "code",
   "execution_count": null,
   "metadata": {},
   "outputs": [],
   "source": [
    "#Write a function in your Jupyter notebook for identifier mapping.\n",
    "#(Alternatively, if you feel comfortable doing so, you may use a python script that takes \n",
    "#in arguments from the command line.)\n",
    "#Your function should take three arguments: two files, and a third argument that will affect how it behaves."
   ]
  },
  {
   "cell_type": "code",
   "execution_count": 12,
   "metadata": {},
   "outputs": [
    {
     "data": {
      "text/plain": [
       "1"
      ]
     },
     "execution_count": 12,
     "metadata": {},
     "output_type": "execute_result"
    }
   ],
   "source": [
    "x = open('test.txt', mode='w')\n",
    "x.write('a')\n",
    "\n"
   ]
  },
  {
   "cell_type": "code",
   "execution_count": 13,
   "metadata": {},
   "outputs": [
    {
     "ename": "NameError",
     "evalue": "name 'flybase_id' is not defined",
     "output_type": "error",
     "traceback": [
      "\u001b[0;31m---------------------------------------------------------------------------\u001b[0m",
      "\u001b[0;31mNameError\u001b[0m                                 Traceback (most recent call last)",
      "\u001b[0;32m<ipython-input-13-758da2e7d7fd>\u001b[0m in \u001b[0;36m<module>\u001b[0;34m()\u001b[0m\n\u001b[0;32m----> 1\u001b[0;31m \u001b[0mflybase_id\u001b[0m\u001b[0;34m\u001b[0m\u001b[0;34m\u001b[0m\u001b[0m\n\u001b[0m",
      "\u001b[0;31mNameError\u001b[0m: name 'flybase_id' is not defined"
     ]
    }
   ],
   "source": [
    "flybase_id"
   ]
  },
  {
   "cell_type": "code",
   "execution_count": null,
   "metadata": {},
   "outputs": [],
   "source": []
  }
 ],
 "metadata": {
  "kernelspec": {
   "display_name": "Python 3",
   "language": "python",
   "name": "python3"
  },
  "language_info": {
   "codemirror_mode": {
    "name": "ipython",
    "version": 3
   },
   "file_extension": ".py",
   "mimetype": "text/x-python",
   "name": "python",
   "nbconvert_exporter": "python",
   "pygments_lexer": "ipython3",
   "version": "3.6.10"
  }
 },
 "nbformat": 4,
 "nbformat_minor": 4
}
