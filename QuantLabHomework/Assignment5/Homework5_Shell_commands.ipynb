{
 "cells": [
  {
   "cell_type": "code",
   "execution_count": null,
   "metadata": {},
   "outputs": [],
   "source": [
    "! mkdir ChIPseq_hw "
   ]
  },
  {
   "cell_type": "code",
   "execution_count": null,
   "metadata": {},
   "outputs": [],
   "source": [
    "! cd ChIPseq_hw\\ "
   ]
  },
  {
   "cell_type": "code",
   "execution_count": null,
   "metadata": {},
   "outputs": [],
   "source": [
    "! conda install macs2 meme bowtie2 samtools -y "
   ]
  },
  {
   "cell_type": "code",
   "execution_count": null,
   "metadata": {},
   "outputs": [],
   "source": [
    "! mkdir index "
   ]
  },
  {
   "cell_type": "code",
   "execution_count": null,
   "metadata": {},
   "outputs": [],
   "source": [
    "! mv chr19.fa index/"
   ]
  },
  {
   "cell_type": "markdown",
   "metadata": {},
   "source": [
    "## Map to reference genome"
   ]
  },
  {
   "cell_type": "code",
   "execution_count": null,
   "metadata": {},
   "outputs": [],
   "source": [
    "! bowtie2-build index/chr19.fa index/chr19"
   ]
  },
  {
   "cell_type": "code",
   "execution_count": null,
   "metadata": {},
   "outputs": [],
   "source": [
    "#run in terminal\n",
    "for sample in CTCF_G1E CTCF_ER4 input_ER4 input_G1E\n",
    "do\n",
    "    bowtie2 -x index/chr19 -U ${sample}.fastq -S ${sample}.sam -p 6\n",
    "    samtools view -bSo ${sample}.bam ${sample}.sam\n",
    "    samtools sort ${sample}.bam -o ${sample}.sorted.bam\n",
    "    samtools index ${sample}.sorted.bam\n",
    "done"
   ]
  },
  {
   "cell_type": "code",
   "execution_count": null,
   "metadata": {},
   "outputs": [],
   "source": [
    "Call ChIP-seq peaks"
   ]
  },
  {
   "cell_type": "code",
   "execution_count": null,
   "metadata": {},
   "outputs": [],
   "source": [
    "macs2 callpeak -t CTCF_ER4.bam -c input_ER4.bam --format=BAM --name=ER4 --gsize=61000000 --tsize=36\n",
    "# read of peaks in the experimental wich looks for areas of the genome with peaks (enriched) for CTCF bound DNA\n",
    "# and peaks (enriched regions) generally found across the genome \n",
    "# here after differentiation estradiol "
   ]
  },
  {
   "cell_type": "code",
   "execution_count": null,
   "metadata": {},
   "outputs": [],
   "source": [
    "macs2 callpeak -t CTCF_G1E.bam -c input_G1E.bam --format=BAM --nameG1e --gsize=61000000 --tsize=36\n",
    "# read of peaks in the experimental wich looks for areas of the genome with peaks (enriched) for CTCF bound DNA\n",
    "# and peaks (enriched regions) generally found across the genome \n",
    "# here before differentiation "
   ]
  },
  {
   "cell_type": "code",
   "execution_count": null,
   "metadata": {},
   "outputs": [],
   "source": [
    "bedtools intersect -a ER4_peaks.narrowPeak -b G1e_peaks.narrowPeak > gained.bed#gained"
   ]
  },
  {
   "cell_type": "code",
   "execution_count": null,
   "metadata": {},
   "outputs": [],
   "source": [
    "bedtools intersect -a G1e_peaks.narrowPeak -b ER4_peaks.narrowPeak > lost.bed #lost"
   ]
  },
  {
   "cell_type": "code",
   "execution_count": 20,
   "metadata": {
    "scrolled": true
   },
   "outputs": [
    {
     "name": "stdout",
     "output_type": "stream",
     "text": [
      "wc: gained.bed: open: No such file or directory\r\n"
     ]
    }
   ],
   "source": [
    "! wc -l gained.bed > \"ChIPseq_hw /lg.txt\""
   ]
  },
  {
   "cell_type": "code",
   "execution_count": 21,
   "metadata": {},
   "outputs": [
    {
     "name": "stdout",
     "output_type": "stream",
     "text": [
      "wc: lost.bed: open: No such file or directory\r\n"
     ]
    }
   ],
   "source": [
    "! wc -l lost.bed >> \"ChIPseq_hw /lg.txt\""
   ]
  },
  {
   "cell_type": "code",
   "execution_count": 3,
   "metadata": {},
   "outputs": [],
   "source": [
    "import pandas as pd"
   ]
  },
  {
   "cell_type": "code",
   "execution_count": 4,
   "metadata": {},
   "outputs": [],
   "source": [
    "G1efeaturecount = pd.read_csv(\"ChIPseq_hw /G1Efeature_count.txt\", header = None, sep = \"\\s+\")"
   ]
  },
  {
   "cell_type": "code",
   "execution_count": 5,
   "metadata": {},
   "outputs": [],
   "source": [
    "ER4featurecount = pd.read_csv(\"ChIPseq_hw /ER4feature_count.txt\", header = None, sep = \"\\s+\")"
   ]
  },
  {
   "cell_type": "code",
   "execution_count": 6,
   "metadata": {},
   "outputs": [
    {
     "data": {
      "text/html": [
       "<div>\n",
       "<style scoped>\n",
       "    .dataframe tbody tr th:only-of-type {\n",
       "        vertical-align: middle;\n",
       "    }\n",
       "\n",
       "    .dataframe tbody tr th {\n",
       "        vertical-align: top;\n",
       "    }\n",
       "\n",
       "    .dataframe thead th {\n",
       "        text-align: right;\n",
       "    }\n",
       "</style>\n",
       "<table border=\"1\" class=\"dataframe\">\n",
       "  <thead>\n",
       "    <tr style=\"text-align: right;\">\n",
       "      <th></th>\n",
       "      <th>g_count</th>\n",
       "      <th>feature</th>\n",
       "    </tr>\n",
       "  </thead>\n",
       "  <tbody>\n",
       "    <tr>\n",
       "      <th>0</th>\n",
       "      <td>84</td>\n",
       "      <td>exon</td>\n",
       "    </tr>\n",
       "    <tr>\n",
       "      <th>1</th>\n",
       "      <td>307</td>\n",
       "      <td>intron</td>\n",
       "    </tr>\n",
       "    <tr>\n",
       "      <th>2</th>\n",
       "      <td>54</td>\n",
       "      <td>promoter</td>\n",
       "    </tr>\n",
       "  </tbody>\n",
       "</table>\n",
       "</div>"
      ],
      "text/plain": [
       "   g_count   feature\n",
       "0       84      exon\n",
       "1      307    intron\n",
       "2       54  promoter"
      ]
     },
     "execution_count": 6,
     "metadata": {},
     "output_type": "execute_result"
    }
   ],
   "source": [
    "G1efeaturecount.columns = ['g_count','feature']\n",
    "G1efeaturecount"
   ]
  },
  {
   "cell_type": "code",
   "execution_count": 7,
   "metadata": {},
   "outputs": [
    {
     "data": {
      "text/html": [
       "<div>\n",
       "<style scoped>\n",
       "    .dataframe tbody tr th:only-of-type {\n",
       "        vertical-align: middle;\n",
       "    }\n",
       "\n",
       "    .dataframe tbody tr th {\n",
       "        vertical-align: top;\n",
       "    }\n",
       "\n",
       "    .dataframe thead th {\n",
       "        text-align: right;\n",
       "    }\n",
       "</style>\n",
       "<table border=\"1\" class=\"dataframe\">\n",
       "  <thead>\n",
       "    <tr style=\"text-align: right;\">\n",
       "      <th></th>\n",
       "      <th>e_count</th>\n",
       "      <th>feature</th>\n",
       "    </tr>\n",
       "  </thead>\n",
       "  <tbody>\n",
       "    <tr>\n",
       "      <th>0</th>\n",
       "      <td>101</td>\n",
       "      <td>exon</td>\n",
       "    </tr>\n",
       "    <tr>\n",
       "      <th>1</th>\n",
       "      <td>341</td>\n",
       "      <td>intron</td>\n",
       "    </tr>\n",
       "    <tr>\n",
       "      <th>2</th>\n",
       "      <td>67</td>\n",
       "      <td>promoter</td>\n",
       "    </tr>\n",
       "  </tbody>\n",
       "</table>\n",
       "</div>"
      ],
      "text/plain": [
       "   e_count   feature\n",
       "0      101      exon\n",
       "1      341    intron\n",
       "2       67  promoter"
      ]
     },
     "execution_count": 7,
     "metadata": {},
     "output_type": "execute_result"
    }
   ],
   "source": [
    "ER4featurecount.columns = ['e_count','feature']\n",
    "ER4featurecount"
   ]
  },
  {
   "cell_type": "code",
   "execution_count": 23,
   "metadata": {},
   "outputs": [
    {
     "data": {
      "text/html": [
       "<div>\n",
       "<style scoped>\n",
       "    .dataframe tbody tr th:only-of-type {\n",
       "        vertical-align: middle;\n",
       "    }\n",
       "\n",
       "    .dataframe tbody tr th {\n",
       "        vertical-align: top;\n",
       "    }\n",
       "\n",
       "    .dataframe thead th {\n",
       "        text-align: right;\n",
       "    }\n",
       "</style>\n",
       "<table border=\"1\" class=\"dataframe\">\n",
       "  <thead>\n",
       "    <tr style=\"text-align: right;\">\n",
       "      <th></th>\n",
       "      <th>0</th>\n",
       "      <th>1</th>\n",
       "    </tr>\n",
       "  </thead>\n",
       "  <tbody>\n",
       "    <tr>\n",
       "      <th>0</th>\n",
       "      <td>124</td>\n",
       "      <td>gained.bed</td>\n",
       "    </tr>\n",
       "    <tr>\n",
       "      <th>1</th>\n",
       "      <td>57</td>\n",
       "      <td>lost.bed</td>\n",
       "    </tr>\n",
       "  </tbody>\n",
       "</table>\n",
       "</div>"
      ],
      "text/plain": [
       "     0           1\n",
       "0  124  gained.bed\n",
       "1   57    lost.bed"
      ]
     },
     "execution_count": 23,
     "metadata": {},
     "output_type": "execute_result"
    }
   ],
   "source": [
    "lg = pd.read_csv(\"ChIPseq_hw /lg.txt\", header = None, sep = \"\\s+\" )\n",
    "lg"
   ]
  },
  {
   "cell_type": "code",
   "execution_count": 25,
   "metadata": {
    "scrolled": true
   },
   "outputs": [
    {
     "data": {
      "text/html": [
       "<div>\n",
       "<style scoped>\n",
       "    .dataframe tbody tr th:only-of-type {\n",
       "        vertical-align: middle;\n",
       "    }\n",
       "\n",
       "    .dataframe tbody tr th {\n",
       "        vertical-align: top;\n",
       "    }\n",
       "\n",
       "    .dataframe thead th {\n",
       "        text-align: right;\n",
       "    }\n",
       "</style>\n",
       "<table border=\"1\" class=\"dataframe\">\n",
       "  <thead>\n",
       "    <tr style=\"text-align: right;\">\n",
       "      <th></th>\n",
       "      <th>counts</th>\n",
       "      <th>characteristic</th>\n",
       "    </tr>\n",
       "  </thead>\n",
       "  <tbody>\n",
       "    <tr>\n",
       "      <th>0</th>\n",
       "      <td>124</td>\n",
       "      <td>gained.bed</td>\n",
       "    </tr>\n",
       "    <tr>\n",
       "      <th>1</th>\n",
       "      <td>57</td>\n",
       "      <td>lost.bed</td>\n",
       "    </tr>\n",
       "  </tbody>\n",
       "</table>\n",
       "</div>"
      ],
      "text/plain": [
       "   counts characteristic\n",
       "0     124     gained.bed\n",
       "1      57       lost.bed"
      ]
     },
     "execution_count": 25,
     "metadata": {},
     "output_type": "execute_result"
    }
   ],
   "source": [
    "lg.columns = [\"counts\", \"characteristic\"]\n",
    "lg"
   ]
  },
  {
   "cell_type": "code",
   "execution_count": 14,
   "metadata": {},
   "outputs": [],
   "source": [
    "import numpy as np"
   ]
  },
  {
   "cell_type": "code",
   "execution_count": 16,
   "metadata": {},
   "outputs": [],
   "source": [
    "import matplotlib.pyplot as plt"
   ]
  },
  {
   "cell_type": "code",
   "execution_count": 34,
   "metadata": {
    "scrolled": true
   },
   "outputs": [
    {
     "data": {
      "image/png": "[encoded data removed]",
      "text/plain": [
       "<Figure size 432x288 with 2 Axes>"
      ]
     },
     "metadata": {
      "needs_background": "light"
     },
     "output_type": "display_data"
    }
   ],
   "source": [
    "label = [\"exon\",\"intron\",\"promoter\"]\n",
    "x = np.arange(len(label))  # the label locations\n",
    "width = 0.35\n",
    "fig, ax = plt.subplots(ncols=2)\n",
    "\n",
    "rects1 = ax[0].bar(x - width/2, G1efeaturecount['g_count'], width, label='G1E')\n",
    "rects2 = ax[0].bar(x + width/2, ER4featurecount['e_count'], width, label='ER4')\n",
    "\n",
    "ax[0].set_title('Features Pre and Post Differentiation')\n",
    "ax[0].set_xlabel('Features')\n",
    "ax[0].set_ylabel('Count')\n",
    "ax[0].set_xticks(x)\n",
    "ax[0].set_xticklabels(label)\n",
    "ax[0].legend()\n",
    "\n",
    "ax[1].bar(lg[\"characteristic\"],lg['counts'])\n",
    "ax[1].set_title('Loss and Gain of CTCF Binding')\n",
    "ax[1].set_ylabel('Count')\n",
    "\n",
    "fig.tight_layout()"
   ]
  },
  {
   "cell_type": "markdown",
   "metadata": {},
   "source": [
    "## Part 2: Motif discovery"
   ]
  },
  {
   "cell_type": "code",
   "execution_count": 35,
   "metadata": {
    "scrolled": true
   },
   "outputs": [
    {
     "name": "stdout",
     "output_type": "stream",
     "text": [
      "Collecting package metadata (current_repodata.json): done\n",
      "Solving environment: done\n",
      "\n",
      "\n",
      "==> WARNING: A newer version of conda exists. <==\n",
      "  current version: 4.8.4\n",
      "  latest version: 4.8.5\n",
      "\n",
      "Please update conda by running\n",
      "\n",
      "    $ conda update -n base conda\n",
      "\n",
      "\n",
      "\n",
      "## Package Plan ##\n",
      "\n",
      "  environment location: /Users/cmdb/miniconda3/envs/cmdb\n",
      "\n",
      "  added / updated specs:\n",
      "    - meme\n",
      "\n",
      "\n",
      "The following packages will be downloaded:\n",
      "\n",
      "    package                    |            build\n",
      "    ---------------------------|-----------------\n",
      "    libxslt-1.1.33             |       h320ff13_0         526 KB  conda-forge\n",
      "    meme-5.1.1                 |py36pl526h5a27e97_3        12.4 MB  bioconda\n",
      "    mpi-1.0                    |          openmpi           4 KB  conda-forge\n",
      "    openmpi-4.0.5              |       hebb22fb_0         3.0 MB  conda-forge\n",
      "    perl-common-sense-3.74     |          pl526_2          15 KB  bioconda\n",
      "    perl-dbi-1.642             |          pl526_0         543 KB  bioconda\n",
      "    perl-file-which-1.23       |          pl526_0          12 KB  bioconda\n",
      "    perl-html-tree-5.07        |          pl526_1         128 KB  bioconda\n",
      "    perl-json-4.02             |          pl526_0          52 KB  bioconda\n",
      "    perl-json-xs-2.34          |  pl526h04f5b5a_3          61 KB  bioconda\n",
      "    perl-log-log4perl-1.49     |          pl526_0         197 KB  bioconda\n",
      "    perl-math-cdf-0.1          |  pl526h1de35cc_5          68 KB  bioconda\n",
      "    perl-types-serialiser-1.0  |          pl526_2          10 KB  bioconda\n",
      "    ------------------------------------------------------------\n",
      "                                           Total:        17.0 MB\n",
      "\n",
      "The following NEW packages will be INSTALLED:\n",
      "\n",
      "  ghostscript        bioconda/osx-64::ghostscript-9.18-1\n",
      "  libxslt            conda-forge/osx-64::libxslt-1.1.33-h320ff13_0\n",
      "  meme               bioconda/osx-64::meme-5.1.1-py36pl526h5a27e97_3\n",
      "  mpi                conda-forge/osx-64::mpi-1.0-openmpi\n",
      "  openmpi            conda-forge/osx-64::openmpi-4.0.5-hebb22fb_0\n",
      "  perl-base          bioconda/osx-64::perl-base-2.23-pl526_1\n",
      "  perl-cgi           bioconda/osx-64::perl-cgi-4.44-pl526h1de35cc_1\n",
      "  perl-common-sense  bioconda/osx-64::perl-common-sense-3.74-pl526_2\n",
      "  perl-dbi           bioconda/osx-64::perl-dbi-1.642-pl526_0\n",
      "  perl-file-which    bioconda/osx-64::perl-file-which-1.23-pl526_0\n",
      "  perl-html-parser   bioconda/osx-64::perl-html-parser-3.72-pl526h04f5b5a_5\n",
      "  perl-html-tagset   bioconda/osx-64::perl-html-tagset-3.20-pl526_3\n",
      "  perl-html-template bioconda/osx-64::perl-html-template-2.97-pl526_1\n",
      "  perl-html-tree     bioconda/osx-64::perl-html-tree-5.07-pl526_1\n",
      "  perl-json          bioconda/osx-64::perl-json-4.02-pl526_0\n",
      "  perl-json-xs       bioconda/osx-64::perl-json-xs-2.34-pl526h04f5b5a_3\n",
      "  perl-log-log4perl  bioconda/osx-64::perl-log-log4perl-1.49-pl526_0\n",
      "  perl-math-cdf      bioconda/osx-64::perl-math-cdf-0.1-pl526h1de35cc_5\n",
      "  perl-scalar-list-~ bioconda/osx-64::perl-scalar-list-utils-1.52-pl526h01d97ff_0\n",
      "  perl-types-serial~ bioconda/osx-64::perl-types-serialiser-1.0-pl526_2\n",
      "  perl-xml-parser    bioconda/osx-64::perl-xml-parser-2.44-pl526h776b7f1_7\n",
      "  perl-xml-sax-expat bioconda/osx-64::perl-xml-sax-expat-0.51-pl526_3\n",
      "  perl-xml-simple    bioconda/osx-64::perl-xml-simple-2.25-pl526_1\n",
      "  perl-yaml          bioconda/noarch::perl-yaml-1.29-pl526_0\n",
      "\n",
      "\n",
      "\n",
      "Downloading and Extracting Packages\n",
      "perl-common-sense-3. | 15 KB     | ##################################### | 100% \n",
      "perl-math-cdf-0.1    | 68 KB     | ##################################### | 100% \n",
      "openmpi-4.0.5        | 3.0 MB    | ##################################### | 100% \n",
      "perl-html-tree-5.07  | 128 KB    | ##################################### | 100% \n",
      "perl-json-4.02       | 52 KB     | ##################################### | 100% \n",
      "perl-json-xs-2.34    | 61 KB     | ##################################### | 100% \n",
      "perl-file-which-1.23 | 12 KB     | ##################################### | 100% \n",
      "perl-log-log4perl-1. | 197 KB    | ##################################### | 100% \n",
      "mpi-1.0              | 4 KB      | ##################################### | 100% \n",
      "libxslt-1.1.33       | 526 KB    | ##################################### | 100% \n",
      "perl-dbi-1.642       | 543 KB    | ##################################### | 100% \n",
      "perl-types-serialise | 10 KB     | ##################################### | 100% \n",
      "meme-5.1.1           | 12.4 MB   | ##################################### | 100% \n",
      "Preparing transaction: done\n",
      "Verifying transaction: done\n",
      "Executing transaction: done\n"
     ]
    }
   ],
   "source": [
    "! conda install meme -y"
   ]
  },
  {
   "cell_type": "code",
   "execution_count": null,
   "metadata": {},
   "outputs": [],
   "source": [
    "tar -xvzf motif_databases.12.19.tgz  #unzip file "
   ]
  },
  {
   "cell_type": "code",
   "execution_count": null,
   "metadata": {},
   "outputs": [],
   "source": [
    "sort -nr -k7 ER4_peaks.narrowPeak | head -n 100 > top100.narrowPeak \n",
    "sort -nr -k8 ER4_peaks.narrowPeak | head -n 100 > top100.narrowPeak \n",
    "#sort based on numerical value in reverse order (largest to smallest) (-nr) and take the 7th field/coumn (-k7) which is the enrichment value \n",
    "#using the 8th field which is based on P-value also works and gives the same results\n",
    "#take first 100 rows and put in new bed file "
   ]
  },
  {
   "cell_type": "code",
   "execution_count": null,
   "metadata": {},
   "outputs": [],
   "source": [
    "bedtools getfasta -fi index/chr19.fa -bed top100.narrowPeak > CTCFtop100.fasta"
   ]
  },
  {
   "cell_type": "code",
   "execution_count": null,
   "metadata": {},
   "outputs": [],
   "source": [
    "meme-chip -ccut -meme-maxw 20 -db motif_databases/JASPAR/JASPAR_CORE_2016.meme CTCFtop100.fasta"
   ]
  },
  {
   "cell_type": "code",
   "execution_count": null,
   "metadata": {},
   "outputs": [],
   "source": [
    "# downloaded the motif with the lowest p-value from the html link present in the memechip_out subdirectory memetomtom_out"
   ]
  },
  {
   "cell_type": "code",
   "execution_count": null,
   "metadata": {},
   "outputs": [],
   "source": [
    "epstopdf logo.eps  "
   ]
  }
 ],
 "metadata": {
  "kernelspec": {
   "display_name": "Python 3",
   "language": "python",
   "name": "python3"
  },
  "language_info": {
   "codemirror_mode": {
    "name": "ipython",
    "version": 3
   },
   "file_extension": ".py",
   "mimetype": "text/x-python",
   "name": "python",
   "nbconvert_exporter": "python",
   "pygments_lexer": "ipython3",
   "version": "3.6.10"
  }
 },
 "nbformat": 4,
 "nbformat_minor": 4
}
