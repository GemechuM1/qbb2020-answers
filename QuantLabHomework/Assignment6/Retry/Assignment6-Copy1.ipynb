{
 "cells": [
  {
   "cell_type": "markdown",
   "metadata": {},
   "source": [
    "STEM-seq E4.0ICM rep1 --> SRR3083926\n",
    "STEM-seq E5.5Epi rep1 --> SRR3083929"
   ]
  },
  {
   "cell_type": "markdown",
   "metadata": {},
   "source": [
    "fastqc SRR3083926_1.chr6.fastq #quality control "
   ]
  },
  {
   "cell_type": "markdown",
   "metadata": {},
   "source": [
    "mkdir chr6\n",
    "mv chr6.fa chr6"
   ]
  },
  {
   "cell_type": "markdown",
   "metadata": {},
   "source": [
    "bismark_genome_preparation --bowtie2 chromosome6/"
   ]
  },
  {
   "cell_type": "markdown",
   "metadata": {},
   "source": [
    "bismark --genome chromosome6/ -1 SRR3083929_1-Copy1.chr6.fastq -2 SRR3083929_2-Copy1.chr6.fastq\n",
    "\n",
    "bismark --genome chromosome6/ -1 SRR3083926_1-Copy1.chr6.fastq -2 SRR3083926_2-Copy1.chr6.fastq"
   ]
  },
  {
   "cell_type": "markdown",
   "metadata": {},
   "source": [
    "! bismark --genome chr6/ -1 SRR3083929_1.chr6.fastq,SRR3083926_1.chr6.fastq -2 SRR3083929_2.chr6.fastq,SRR3083926_2.chr6.fastq"
   ]
  },
  {
   "cell_type": "markdown",
   "metadata": {},
   "source": [
    "samtools sort bamfiles/SRR3083926_1.chr6_bismark_bt2_pe.bam -o SRR26.sorted.bam\n",
    "\n",
    "samtools sort bamfiles/SRR3083929_1.chr6_bismark_bt2_pe.bam -o SRR29.sorted.bam"
   ]
  },
  {
   "cell_type": "markdown",
   "metadata": {},
   "source": [
    "samtools index SRR26.sorted.bam"
   ]
  },
  {
   "cell_type": "markdown",
   "metadata": {},
   "source": [
    "samtools index SRR29.sorted.bam"
   ]
  },
  {
   "cell_type": "markdown",
   "metadata": {},
   "source": [
    "bismark_methylation_extractor --gzip --bedGraph --comprehensive newbamfiles/SRR26.sorted.bam"
   ]
  },
  {
   "cell_type": "markdown",
   "metadata": {},
   "source": [
    "bismark_methylation_extractor --gzip --bedGraph --comprehensive newbamfiles/SRR29.sorted.bam"
   ]
  },
  {
   "cell_type": "code",
   "execution_count": 1,
   "metadata": {},
   "outputs": [],
   "source": [
    "reference_genome = open(\"mm10_refseq_genes_chr6_50M_60M-Copy1.bed\")\n",
    "chromosome6 = []\n",
    "for line in reference_genome:\n",
    "    line = line.rsplit()\n",
    "    chromosome6.append(line)"
   ]
  },
  {
   "cell_type": "code",
   "execution_count": 2,
   "metadata": {},
   "outputs": [
    {
     "name": "stdout",
     "output_type": "stream",
     "text": [
      "['chr6', '50000557', '50000558', '0']\n"
     ]
    }
   ],
   "source": [
    "emb5 = open(\"srr29_met_extractor_folder/SRR3083929.sorted.bedGraph\")\n",
    "embryoday5 = []\n",
    "for line in emb5:\n",
    "    line = line.rsplit()\n",
    "    embryoday5.append(line)\n",
    "print(embryoday5[1])"
   ]
  },
  {
   "cell_type": "code",
   "execution_count": 3,
   "metadata": {},
   "outputs": [
    {
     "name": "stdout",
     "output_type": "stream",
     "text": [
      "['chr6', '49999926', '49999927', '0']\n"
     ]
    }
   ],
   "source": [
    "emb4 = open(\"srr26_met_extractor_folder/SRR3083926.sorted.bedGraph\")\n",
    "embryoday4 = []\n",
    "for line in emb4:\n",
    "    line = line.rsplit()\n",
    "    embryoday4.append(line)\n",
    "print(embryoday4[1])"
   ]
  },
  {
   "cell_type": "code",
   "execution_count": 185,
   "metadata": {},
   "outputs": [],
   "source": [
    "def methylation_count(srr, search_range):\n",
    "    meth_score = 0\n",
    "    count = 0\n",
    "    for line in srr:\n",
    "        meth_range = list(map(int,line.split()[1:3]))\n",
    "        score = float(line.split()[3])\n",
    "        if meth_range[1]>=search_range[0] and meth_range[1]<=search_range[1]:\n",
    "            meth_score+= score\n",
    "            count += 1\n",
    "        if count != 0:\n",
    "            return meth_score/countdef "
   ]
  },
  {
   "cell_type": "code",
   "execution_count": 194,
   "metadata": {},
   "outputs": [
    {
     "name": "stdout",
     "output_type": "stream",
     "text": [
      "None\n"
     ]
    }
   ],
   "source": [
    "print(methylation_count(emb4,dictionary[\"NM_001164734\"]))"
   ]
  },
  {
   "cell_type": "code",
   "execution_count": 197,
   "metadata": {},
   "outputs": [],
   "source": [
    "dicto = {}\n",
    "key = []\n",
    "value = []\n",
    "for line in chromosome6:\n",
    "    k = (line[1])\n",
    "    v = (list(map(int, line[4:6])))\n",
    "    dicto[k] = v"
   ]
  },
  {
   "cell_type": "code",
   "execution_count": 198,
   "metadata": {},
   "outputs": [
    {
     "data": {
      "text/plain": [
       "{'NM_001164734': [50110240, 50198598],\n",
       " 'NM_001164733': [50110240, 50198598],\n",
       " 'NM_019939': [50110240, 50198598],\n",
       " 'NM_018769': [50207402, 50261769],\n",
       " 'NM_027881': [50293326, 50382837],\n",
       " 'NM_001163645': [50293326, 50456170],\n",
       " 'NM_007808': [50562562, 50566474],\n",
       " 'NR_015581': [50566642, 50594865],\n",
       " 'NR_027892': [50566642, 50594865],\n",
       " 'NR_105790': [50572397, 50572508],\n",
       " 'NM_027564': [50573303, 50596590],\n",
       " 'NM_021892': [50650870, 50654393],\n",
       " 'NR_045984': [50776114, 50814894],\n",
       " 'NR_029719': [51269811, 51269910],\n",
       " 'NR_110455': [51379709, 51392791],\n",
       " 'NM_010903': [51432669, 51458768],\n",
       " 'NM_182650': [51460434, 51469894],\n",
       " 'NM_016806': [51460434, 51469894],\n",
       " 'NR_104468': [51460434, 51469894],\n",
       " 'NM_007624': [51470615, 51483704],\n",
       " 'NM_001127349': [51523902, 51590670],\n",
       " 'NM_001127348': [51544522, 51590670],\n",
       " 'NM_028035': [51544522, 51590670],\n",
       " 'NM_018773': [51859164, 52012549],\n",
       " 'NR_110440': [52102948, 52113684],\n",
       " 'NM_010449': [52155366, 52158317],\n",
       " 'NM_001311118': [52155366, 52158317],\n",
       " 'NR_131181': [52158523, 52162020],\n",
       " 'NM_010451': [52162416, 52164831],\n",
       " 'NR_131182': [52165673, 52169451],\n",
       " 'NM_010452': [52169061, 52213067],\n",
       " 'NM_008265': [52189686, 52191703],\n",
       " 'NR_015611': [52201123, 52213597],\n",
       " 'NM_010453': [52201753, 52204587],\n",
       " 'NM_010454': [52206364, 52208624],\n",
       " 'NR_045199': [52214491, 52215288],\n",
       " 'NM_010455': [52215623, 52218573],\n",
       " 'NM_010456': [52223096, 52227370],\n",
       " 'NM_001277238': [52223096, 52227370],\n",
       " 'NR_029912': [52230080, 52230165],\n",
       " 'NM_001122950': [52231196, 52240854],\n",
       " 'NM_008263': [52231196, 52234939],\n",
       " 'NM_010450': [52242104, 52245810],\n",
       " 'NR_015348': [52245242, 52249769],\n",
       " 'NM_008264': [52258852, 52260880],\n",
       " 'NR_110442': [52262774, 52267603],\n",
       " 'NR_110441': [52262774, 52267603],\n",
       " 'NR_038163': [52308388, 52314832],\n",
       " 'NM_007966': [52313497, 52318378],\n",
       " 'NR_046049': [52492450, 52500085],\n",
       " 'NM_145567': [52546229, 52640300],\n",
       " 'NM_025816': [52713728, 52766779],\n",
       " 'NM_001168277': [52768067, 52909620],\n",
       " 'NM_173406': [52768067, 53068624],\n",
       " 'NR_073371': [53221163, 53224975],\n",
       " 'NR_073372': [53221801, 53226599],\n",
       " 'NR_015553': [53287294, 53397216],\n",
       " 'NM_001327821': [53287302, 53700363],\n",
       " 'NM_172728': [53573373, 53695832],\n",
       " 'NM_025817': [53815467, 53820825],\n",
       " 'NM_027749': [53873278, 53978673],\n",
       " 'NM_001289714': [53873278, 53978673],\n",
       " 'NM_001289713': [53873278, 53978673],\n",
       " 'NR_110484': [53978690, 54017383],\n",
       " 'NM_001163640': [54039931, 54301812],\n",
       " 'NM_001311133': [54264857, 54301812],\n",
       " 'NM_001311134': [54269155, 54301812],\n",
       " 'NR_033635': [54269680, 54430221],\n",
       " 'NM_023543': [54272821, 54301812],\n",
       " 'NM_030024': [54327011, 54330200],\n",
       " 'NM_001167861': [54452882, 54503768],\n",
       " 'NM_001167860': [54452882, 54503768],\n",
       " 'NM_027268': [54508815, 54566382],\n",
       " 'NM_153573': [54577604, 54593128],\n",
       " 'NM_001164361': [54595110, 54645822],\n",
       " 'NM_001001335': [54603146, 54645822],\n",
       " 'NM_001289741': [54681623, 54703855],\n",
       " 'NM_001289740': [54681623, 54703855],\n",
       " 'NM_199143': [54816915, 54890224],\n",
       " 'NM_172729': [54923941, 54972612],\n",
       " 'NM_001171007': [54923941, 54971661],\n",
       " 'NM_026637': [54985094, 54992867],\n",
       " 'NM_180678': [55038000, 55079504],\n",
       " 'NM_001288619': [55090048, 55117913],\n",
       " 'NM_001288620': [55090048, 55117913],\n",
       " 'NM_001288618': [55090048, 55133016],\n",
       " 'NM_009953': [55090048, 55133016],\n",
       " 'NM_009349': [55170626, 55174990],\n",
       " 'NM_177883': [55203382, 55278625],\n",
       " 'NM_001142781': [55203382, 55320222],\n",
       " 'NM_007472': [55336298, 55348555],\n",
       " 'NM_001003685': [55376294, 55388530],\n",
       " 'NR_046179': [55396886, 55412285],\n",
       " 'NM_001025372': [55451977, 55501455],\n",
       " 'NM_007407': [55451977, 55501455],\n",
       " 'NM_009717': [55677818, 55681263],\n",
       " 'NR_046071': [55684570, 55694574],\n",
       " 'NM_001081665': [55837017, 55978598],\n",
       " 'NM_011153': [56017514, 56032688],\n",
       " 'NM_001159953': [56069803, 56362392],\n",
       " 'NM_001159956': [56079987, 56369634],\n",
       " 'NM_001159955': [56079987, 56369634],\n",
       " 'NM_011054': [56079987, 56362519],\n",
       " 'NM_001159960': [56100439, 56362810],\n",
       " 'NM_001159952': [56100439, 56362392],\n",
       " 'NM_001159957': [56100439, 56369634],\n",
       " 'NM_001025568': [56100439, 56362392],\n",
       " 'NM_025520': [56701062, 56704699],\n",
       " 'NM_030235': [56714904, 56761911],\n",
       " 'NM_145958': [56777524, 56797813],\n",
       " 'NM_012056': [56832058, 56879360],\n",
       " 'NM_026004': [56882401, 56923932],\n",
       " 'NM_001252374': [56882401, 56901886],\n",
       " 'NM_134176': [56956512, 56957406],\n",
       " 'NM_134174': [56985341, 56986289],\n",
       " 'NM_134175': [57002354, 57003266],\n",
       " 'NM_001166710': [57024337, 57025273],\n",
       " 'NM_134187': [57035912, 57037125],\n",
       " 'NM_134185': [57070894, 57071945],\n",
       " 'NM_053231': [57113424, 57114360],\n",
       " 'NM_053233': [57137352, 57138252],\n",
       " 'NM_001101579': [57158919, 57159843],\n",
       " 'NM_053235': [57209857, 57210760],\n",
       " 'NM_053237': [57233438, 57234350],\n",
       " 'NM_053236': [57258148, 57259048],\n",
       " 'NM_134184': [57322723, 57323635],\n",
       " 'NM_134171': [57360466, 57361378],\n",
       " 'NM_134181': [57389667, 57390567],\n",
       " 'NM_134182': [57404463, 57405390],\n",
       " 'NM_001101533': [57431690, 57432602],\n",
       " 'NM_175523': [57506501, 57535426],\n",
       " 'NM_025992': [57580991, 57665136],\n",
       " 'NM_025574': [57684738, 57692078],\n",
       " 'NM_133737': [57702454, 57739449],\n",
       " 'NM_146168': [57752263, 57825125],\n",
       " 'NM_134183': [57843563, 57844457],\n",
       " 'NM_134178': [57900081, 57900990],\n",
       " 'NM_134179': [57925882, 57926791],\n",
       " 'NM_134173': [57955640, 57956531],\n",
       " 'NM_053238': [57978393, 57979302],\n",
       " 'NM_134172': [58008182, 58009202],\n",
       " 'NM_134436': [58215105, 58216017],\n",
       " 'NM_134180': [58265173, 58266082],\n",
       " 'NM_053232': [58307296, 58308208],\n",
       " 'NM_134177': [58434936, 58435845],\n",
       " 'NM_001166729': [58471966, 58472878],\n",
       " 'NM_011920': [58596671, 58692451],\n",
       " 'NM_028705': [58833699, 58920396],\n",
       " 'NM_021432': [58905232, 58907126],\n",
       " 'NM_153574': [58933535, 59024502],\n",
       " 'NM_001081145': [59208869, 59212033],\n",
       " 'NM_183183': [59352460, 59426290]}"
      ]
     },
     "execution_count": 198,
     "metadata": {},
     "output_type": "execute_result"
    }
   ],
   "source": [
    "dicto"
   ]
  },
  {
   "cell_type": "code",
   "execution_count": 199,
   "metadata": {},
   "outputs": [
    {
     "name": "stdout",
     "output_type": "stream",
     "text": [
      "None\n",
      "None\n",
      "None\n",
      "None\n",
      "None\n",
      "None\n",
      "None\n",
      "None\n",
      "None\n",
      "None\n",
      "None\n",
      "None\n",
      "None\n",
      "None\n",
      "None\n",
      "None\n",
      "None\n",
      "None\n",
      "None\n",
      "None\n",
      "None\n",
      "None\n",
      "None\n",
      "None\n",
      "None\n",
      "None\n",
      "None\n",
      "None\n",
      "None\n",
      "None\n",
      "None\n",
      "None\n",
      "None\n",
      "None\n",
      "None\n",
      "None\n",
      "None\n",
      "None\n",
      "None\n",
      "None\n",
      "None\n",
      "None\n",
      "None\n",
      "None\n",
      "None\n",
      "None\n",
      "None\n",
      "None\n",
      "None\n",
      "None\n",
      "None\n",
      "None\n",
      "None\n",
      "None\n",
      "None\n",
      "None\n",
      "None\n",
      "None\n",
      "None\n",
      "None\n",
      "None\n",
      "None\n",
      "None\n",
      "None\n",
      "None\n",
      "None\n",
      "None\n",
      "None\n",
      "None\n",
      "None\n",
      "None\n",
      "None\n",
      "None\n",
      "None\n",
      "None\n",
      "None\n",
      "None\n",
      "None\n",
      "None\n",
      "None\n",
      "None\n",
      "None\n",
      "None\n",
      "None\n",
      "None\n",
      "None\n",
      "None\n",
      "None\n",
      "None\n",
      "None\n",
      "None\n",
      "None\n",
      "None\n",
      "None\n",
      "None\n",
      "None\n",
      "None\n",
      "None\n",
      "None\n",
      "None\n",
      "None\n",
      "None\n",
      "None\n",
      "None\n",
      "None\n",
      "None\n",
      "None\n",
      "None\n",
      "None\n",
      "None\n",
      "None\n",
      "None\n",
      "None\n",
      "None\n",
      "None\n",
      "None\n",
      "None\n",
      "None\n",
      "None\n",
      "None\n",
      "None\n",
      "None\n",
      "None\n",
      "None\n",
      "None\n",
      "None\n",
      "None\n",
      "None\n",
      "None\n",
      "None\n",
      "None\n",
      "None\n",
      "None\n",
      "None\n",
      "None\n",
      "None\n",
      "None\n",
      "None\n",
      "None\n",
      "None\n",
      "None\n",
      "None\n",
      "None\n",
      "None\n",
      "None\n",
      "None\n",
      "None\n",
      "None\n",
      "None\n",
      "None\n",
      "None\n",
      "None\n"
     ]
    }
   ],
   "source": [
    "for keys,values in dictionary.items():\n",
    "    metcout = methylation_count(emb4, values)\n",
    "    print(metcout)   "
   ]
  },
  {
   "cell_type": "code",
   "execution_count": 202,
   "metadata": {},
   "outputs": [],
   "source": [
    "x = []\n",
    "metscore = {}\n",
    "for line,row in zip(embryoday4[1:],chromosome6):\n",
    "        if int(line[-2]) >= int(row[4]) and int(line[-2]) <= int(row[5]):\n",
    "            x.append(line[-1])\n",
    "#             key = row[1]\n",
    "#             value = int(line[-1])\n",
    "#             metscore[key].append(value)"
   ]
  },
  {
   "cell_type": "markdown",
   "metadata": {},
   "source": [
    "<!-- gene_names = []\n",
    "for line in chromosome6: \n",
    "    gene_names.append(line[1])\n",
    "empty_dict = dict.fromkeys(gene_names) # set up dictionary with the gene names as keys and the values empty\n",
    "\n",
    "for element in chromosome6:\n",
    "    methylated = []\n",
    "    newdict = {}\n",
    "    for line in embryoday4[1:]:\n",
    "        if line[-2] < element[5]:\n",
    "#             empty_dict.update(line[-1])\n",
    "            methylated.append(line[-1])\n",
    "     -->"
   ]
  },
  {
   "cell_type": "markdown",
   "metadata": {},
   "source": [
    "<!-- methylated = []\n",
    "for element in chromosome6:\n",
    "    for line in embryoday4[1:]:\n",
    "        emptylist = [] #list in which we put each methylation before appending to the list methylated\n",
    "        if float(line[-1]) == 0: #skips all zero methylation scores\n",
    "            continue\n",
    "        elif int(line[-2]) <= int(element[5]):\n",
    "#                 emptylist.append(line[-1])\n",
    "            methylated.append(line[-1])\n",
    "#         elif line[-2]<element[5]:\n",
    "#             methylated.append(line[-1])\n",
    "#             unmethylated.append(line[-1])\n",
    "        else:\n",
    "            break\n",
    "#         elif line[-2]>element[4]:\n",
    "#             continue\n",
    "# print(methylated[0:500])\n",
    "len(methylated) -->"
   ]
  },
  {
   "cell_type": "markdown",
   "metadata": {},
   "source": [
    "<!-- # newlist = []\n",
    "# for row in embryoday4[1:]:\n",
    "#     for line in chromosome6:\n",
    "#         if row[-2] < line[6]: #if the nucleotide position is less than the end of the gene \n",
    "#             internalist = [] #create a new internal list \n",
    "#             internalist.append(row[-1]) #append the methylation score to the new interal list  \n",
    "#             newlist.append(internalist) # append the new internal list to newlist \n",
    "#         else:\n",
    "#             continue #otherwise continue \n",
    "# len(newlist) -->"
   ]
  },
  {
   "cell_type": "markdown",
   "metadata": {},
   "source": [
    "<!-- gene_range = []\n",
    "x\n",
    "for line in chromosome6:\n",
    "    g_range = line[5:7]\n",
    "    gene_range.append(g_range)\n",
    "#print(gene_range[0:100])\n",
    "for row in embryoday4[1:]:\n",
    "    if float(row[-1]) == 0:\n",
    "        continue\n",
    "    else:\n",
    "        for i in gene_range:\n",
    "            if int(row[-2]) >= int(i[0][0]) and int(row[-2]) <= int(i[0][1]):\n",
    "                 #x.append(row[-1])\n",
    "                print(row[-1])\n",
    "#     elif row[-2] >= int(gene_range[1]) and row[-2] <= int(gene_range[1]):\n",
    "#         x.append[-1]\n",
    "            -->"
   ]
  },
  {
   "cell_type": "markdown",
   "metadata": {},
   "source": [
    "<!-- met = []\n",
    "for row in chromosome6:\n",
    "    for line in embryoday4[1:]:\n",
    "        if int(line[-2]) <= int(row[6]):\n",
    "            newlist = []\n",
    "            newlist.append(line[-1])\n",
    "            met.append(newlist)\n",
    "#             else:\n",
    "#                 continue\n",
    "                #met.append(nlist)\n",
    "                    #met.append(line[-1])\n",
    "\n",
    " -->"
   ]
  }
 ],
 "metadata": {
  "kernelspec": {
   "display_name": "Python 3",
   "language": "python",
   "name": "python3"
  },
  "language_info": {
   "codemirror_mode": {
    "name": "ipython",
    "version": 3
   },
   "file_extension": ".py",
   "mimetype": "text/x-python",
   "name": "python",
   "nbconvert_exporter": "python",
   "pygments_lexer": "ipython3",
   "version": "3.6.10"
  }
 },
 "nbformat": 4,
 "nbformat_minor": 4
}
