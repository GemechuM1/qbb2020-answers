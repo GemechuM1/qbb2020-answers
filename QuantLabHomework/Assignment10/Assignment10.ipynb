{
 "cells": [
  {
   "cell_type": "markdown",
   "metadata": {},
   "source": [
    "We would like to view a detailed taxonomic breakdown of all 8 samples to see how the gut microbiota changes across the days following birth"
   ]
  },
  {
   "cell_type": "markdown",
   "metadata": {},
   "source": [
    "## Step 1: Investigate the taxonomic profile of the reads"
   ]
  },
  {
   "cell_type": "code",
   "execution_count": 20,
   "metadata": {},
   "outputs": [],
   "source": [
    "def dict_maker(num):\n",
    "    f = open(\"week13_data/KRAKEN/SRR4921\"+num+\".kraken\")\n",
    "    kraken = f.readlines()\n",
    "    f.close()\n",
    "    day_temp = {}\n",
    "    for line in kraken:\n",
    "        key = line.split('\\t')[1]\n",
    "        day_temp.setdefault(key,0)\n",
    "        day_temp[key] += 1\n",
    "    return day_temp"
   ]
  },
  {
   "cell_type": "code",
   "execution_count": 23,
   "metadata": {},
   "outputs": [],
   "source": [
    "kraken_83 = dict_maker(\"83\")\n",
    "kraken_86 = dict_maker(\"86\")\n",
    "kraken_88 = dict_maker(\"88\")\n",
    "kraken_89 = dict_maker(\"89\")\n",
    "kraken_90 = dict_maker(\"90\")\n",
    "kraken_93 = dict_maker(\"93\")\n",
    "kraken_94 = dict_maker(\"94\")\n",
    "kraken_97 = dict_maker(\"97\")"
   ]
  },
  {
   "cell_type": "code",
   "execution_count": 30,
   "metadata": {},
   "outputs": [],
   "source": [
    "def file_maker(dictionary):\n",
    "    for x in range(0, 8):\n",
    "        f = open(\"week13_data/KRAKEN/day\" + str(x) + \".kraken\", \"w\")\n",
    "        for key, value in dictionary.items():\n",
    "            test = key.split(\";\")\n",
    "            f.write(str(value) + \"\\t\")\n",
    "            for y in test[:-1]:\n",
    "                f.write(y +\"\\t\")\n",
    "            f.write(test[-1])\n",
    "        f.close()"
   ]
  },
  {
   "cell_type": "code",
   "execution_count": 31,
   "metadata": {},
   "outputs": [],
   "source": [
    "day1 = file_maker(kraken_83)\n",
    "day2 = file_maker(kraken_86)\n",
    "day3 = file_maker(kraken_88)\n",
    "day4 = file_maker(kraken_89)\n",
    "day5 = file_maker(kraken_90)\n",
    "day6 = file_maker(kraken_93)\n",
    "day7 = file_maker(kraken_94)\n",
    "day8 = file_maker(kraken_97)"
   ]
  },
  {
   "cell_type": "markdown",
   "metadata": {},
   "source": [
    "## Question 1: Briefly comment on the trends you see in the gut microbiota throughout the first week.\n",
    "\n",
    "- Answer There are no large differences in the identity of the bacterium but the percentage they make chungs significantly "
   ]
  },
  {
   "cell_type": "markdown",
   "metadata": {},
   "source": [
    "## Step 2: Deconvolute the assembled scaffolds into individual genomes (binning)"
   ]
  },
  {
   "cell_type": "code",
   "execution_count": null,
   "metadata": {},
   "outputs": [],
   "source": [
    "conda create -n metabat2 -c bioconda metabat2=2.13 libdeflate=1.0 # to run jgi_summarize_bam_contig_depths"
   ]
  },
  {
   "cell_type": "code",
   "execution_count": null,
   "metadata": {},
   "outputs": [],
   "source": [
    "conda create -n metabat -c bioconda metabat2 # to run metabat2"
   ]
  },
  {
   "cell_type": "code",
   "execution_count": null,
   "metadata": {},
   "outputs": [],
   "source": [
    "bwa index assembly.fasta "
   ]
  },
  {
   "cell_type": "markdown",
   "metadata": {},
   "source": [
    "## Question 2: What metrics in the contigs can we use to group them together?\n",
    "- use kmer counting as metric "
   ]
  },
  {
   "cell_type": "raw",
   "metadata": {},
   "source": [
    "## creating fasta files in terminal using bwa in script\n",
    "\n",
    "#/!/bin/bash\n",
    "\n",
    "for SAMPLE in 86 88 89 90 93 94 97\n",
    "\n",
    "do\n",
    "\n",
    "bwa mem assembly.fasta READS/SRR4921${SAMPLE}_1.fastq READS/SRR4921${SAMPLE}_2.fastq > SRR4921${SAMPLE}.sam\n",
    "\n",
    "done"
   ]
  },
  {
   "cell_type": "raw",
   "metadata": {},
   "source": [
    "## Convert sam outputs to bam and sort bam files \n",
    "\n",
    "#/!/bin/bash\n",
    "\n",
    "for SAMPLE in 86 88 89 90 93 94 97\n",
    "\n",
    "do\n",
    "\n",
    "samtools view -S -b SRR4921${SAMPLE}.sam | samtools sort -o SRR4921${SAMPLE}.sorted.bam\n",
    "\n",
    "done"
   ]
  },
  {
   "cell_type": "code",
   "execution_count": null,
   "metadata": {},
   "outputs": [],
   "source": [
    "jgi_summarize_bam_contig_depths --outputDepth depth.txt *.bam # generate a depth file "
   ]
  },
  {
   "cell_type": "code",
   "execution_count": null,
   "metadata": {},
   "outputs": [],
   "source": [
    "metabat2 -i assembly.fasta -a depth.txt -o bins"
   ]
  },
  {
   "cell_type": "markdown",
   "metadata": {},
   "source": [
    "## Question 3:\n",
    "1) 6 bins were created \n",
    "2) represent ~34% of the assembly \n",
    "3) the average bacterial genome is 3Mb; on average the nodes were ~2-3mb; so yes I think they look right \n",
    "4) compare to a reference "
   ]
  },
  {
   "cell_type": "markdown",
   "metadata": {},
   "source": [
    "## Step 3: Estimate the taxonomy of your putative genomes"
   ]
  },
  {
   "cell_type": "code",
   "execution_count": null,
   "metadata": {},
   "outputs": [],
   "source": [
    "tar xopf foo.tar"
   ]
  },
  {
   "cell_type": "code",
   "execution_count": 9,
   "metadata": {},
   "outputs": [],
   "source": [
    "assembly_kraken = open(\"week13_data/KRAKEN/assembly.kraken\")\n",
    "assembly_kraken = assembly_kraken.readlines()\n"
   ]
  },
  {
   "cell_type": "code",
   "execution_count": 58,
   "metadata": {},
   "outputs": [],
   "source": [
    "for line in assembly_kraken:\n",
    "    line = line.split(\"\\t\")\n",
    "    assembly.append(line)\n",
    "    \n",
    "    "
   ]
  },
  {
   "cell_type": "code",
   "execution_count": 59,
   "metadata": {},
   "outputs": [],
   "source": [
    "\n",
    "def bin_identifier(bin_num, assembly):\n",
    "    f = open(\"week13_data/bins/bin.\"+bin_num+\".fa\")\n",
    "    binfile = f.readlines()\n",
    "    f.close()\n",
    "    \n",
    "    bin_dict = {}\n",
    "    for line in binfile:\n",
    "        if '>' in line:\n",
    "            node = str(line.strip()[1:])\n",
    "            for line in assembly_kraken:\n",
    "                if node in line:\n",
    "                    key = line.split('\\t')[1]\n",
    "                    bin_dict.setdefault(key,0)\n",
    "                    bin_dict[key] += 1\n",
    "    \n",
    "    f = open(\"week13_data/bins/bin_species\"+bin_num+\".txt\",'w')\n",
    "    for key,val in bin_dict.items():\n",
    "        #x = key.split(';')\n",
    "        f.write(key + '\\n')\n",
    "        f.write(str(val)+'\\n')\n",
    "        f.write('\\n')\n",
    "    max_key = max(bin_dict, key=lambda k: bin_dict[k])\n",
    "    f.write('\\nMost likely associated species:\\t'+max_key)Step 4: Make a heatmap of the individual bin abundances over time\n",
    "\n",
    "    f.close()"
   ]
  },
  {
   "cell_type": "code",
   "execution_count": 60,
   "metadata": {
    "scrolled": true
   },
   "outputs": [],
   "source": [
    "bin_nums = ['1','2','3','4','5','6','7','8']\n",
    "for number in bin_nums:\n",
    "    bin_identifier(number,assembly)"
   ]
  },
  {
   "cell_type": "markdown",
   "metadata": {},
   "source": [
    "## Question 4:"
   ]
  },
  {
   "cell_type": "raw",
   "metadata": {},
   "source": [
    "(A) What are your predictions for each bin?\n",
    "        bin1: Staphylococcus haemolyticus\n",
    "        bin2: Leuconostoc citreum\n",
    "        bin3: Staphylococcus lugdunensis\n",
    "        bin4: Enterococcus faecalis\n",
    "        bin5: Cutibacterium avidum\n",
    "        bin6: Staphylococcus epidermidis\n",
    "        bin7: Staphylococcus aureus\n",
    "        bin8: Anaerococcus prevotii\n",
    "(B) This approach to classification is fast, but not very quantitative. \n",
    "    Propose one method to more robustly infer the taxonomy of a metagenomic bin.\n",
    "        Use single nucleatide polymorphisms between taxa, specifically 16s  "
   ]
  },
  {
   "cell_type": "markdown",
   "metadata": {},
   "source": [
    "## Step 4: Make a heatmap of the individual bin abundances over time"
   ]
  },
  {
   "cell_type": "code",
   "execution_count": 67,
   "metadata": {
    "scrolled": false
   },
   "outputs": [
    {
     "data": {
      "text/html": [
       "<div>\n",
       "<style scoped>\n",
       "    .dataframe tbody tr th:only-of-type {\n",
       "        vertical-align: middle;\n",
       "    }\n",
       "\n",
       "    .dataframe tbody tr th {\n",
       "        vertical-align: top;\n",
       "    }\n",
       "\n",
       "    .dataframe thead th {\n",
       "        text-align: right;\n",
       "    }\n",
       "</style>\n",
       "<table border=\"1\" class=\"dataframe\">\n",
       "  <thead>\n",
       "    <tr style=\"text-align: right;\">\n",
       "      <th></th>\n",
       "      <th>SRR492186</th>\n",
       "      <th>SRR492066</th>\n",
       "      <th>SRR492182</th>\n",
       "      <th>SRR492188</th>\n",
       "      <th>SRR492196</th>\n",
       "      <th>SRR492183</th>\n",
       "      <th>SRR492184</th>\n",
       "      <th>SRR492185</th>\n",
       "      <th>SRR492065</th>\n",
       "      <th>SRR492187</th>\n",
       "      <th>SRR492197</th>\n",
       "      <th>SRR492189</th>\n",
       "      <th>SRR492195</th>\n",
       "      <th>SRR492194</th>\n",
       "      <th>SRR492193</th>\n",
       "      <th>SRR492192</th>\n",
       "      <th>SRR492191</th>\n",
       "      <th>SRR492190</th>\n",
       "    </tr>\n",
       "    <tr>\n",
       "      <th>Genomic bins</th>\n",
       "      <th></th>\n",
       "      <th></th>\n",
       "      <th></th>\n",
       "      <th></th>\n",
       "      <th></th>\n",
       "      <th></th>\n",
       "      <th></th>\n",
       "      <th></th>\n",
       "      <th></th>\n",
       "      <th></th>\n",
       "      <th></th>\n",
       "      <th></th>\n",
       "      <th></th>\n",
       "      <th></th>\n",
       "      <th></th>\n",
       "      <th></th>\n",
       "      <th></th>\n",
       "      <th></th>\n",
       "    </tr>\n",
       "  </thead>\n",
       "  <tbody>\n",
       "    <tr>\n",
       "      <th>bin.1</th>\n",
       "      <td>167.273691</td>\n",
       "      <td>67.688884</td>\n",
       "      <td>54.858154</td>\n",
       "      <td>102.432386</td>\n",
       "      <td>335.756912</td>\n",
       "      <td>50.103235</td>\n",
       "      <td>96.383771</td>\n",
       "      <td>175.127948</td>\n",
       "      <td>71.420624</td>\n",
       "      <td>190.391037</td>\n",
       "      <td>72.544371</td>\n",
       "      <td>97.521190</td>\n",
       "      <td>49.834345</td>\n",
       "      <td>53.357374</td>\n",
       "      <td>172.449773</td>\n",
       "      <td>179.006341</td>\n",
       "      <td>14.685431</td>\n",
       "      <td>14.523105</td>\n",
       "    </tr>\n",
       "    <tr>\n",
       "      <th>bin.4</th>\n",
       "      <td>9348.741359</td>\n",
       "      <td>7247.577187</td>\n",
       "      <td>4178.397657</td>\n",
       "      <td>8139.870719</td>\n",
       "      <td>11597.033828</td>\n",
       "      <td>4115.242526</td>\n",
       "      <td>11633.667679</td>\n",
       "      <td>9219.720953</td>\n",
       "      <td>7240.045338</td>\n",
       "      <td>9979.380909</td>\n",
       "      <td>8745.103316</td>\n",
       "      <td>8308.156703</td>\n",
       "      <td>6646.119922</td>\n",
       "      <td>6550.505763</td>\n",
       "      <td>6267.155205</td>\n",
       "      <td>6151.257743</td>\n",
       "      <td>5780.879180</td>\n",
       "      <td>5267.858711</td>\n",
       "    </tr>\n",
       "    <tr>\n",
       "      <th>bin.2</th>\n",
       "      <td>8.887730</td>\n",
       "      <td>5.406628</td>\n",
       "      <td>1.986297</td>\n",
       "      <td>5.838109</td>\n",
       "      <td>8.348499</td>\n",
       "      <td>1.751119</td>\n",
       "      <td>31.799458</td>\n",
       "      <td>9.170054</td>\n",
       "      <td>6.087799</td>\n",
       "      <td>37.581807</td>\n",
       "      <td>19.275630</td>\n",
       "      <td>5.929623</td>\n",
       "      <td>3.451473</td>\n",
       "      <td>3.259988</td>\n",
       "      <td>1.804228</td>\n",
       "      <td>1.629252</td>\n",
       "      <td>4.652603</td>\n",
       "      <td>4.583909</td>\n",
       "    </tr>\n",
       "    <tr>\n",
       "      <th>bin.5</th>\n",
       "      <td>0.552469</td>\n",
       "      <td>2034.534641</td>\n",
       "      <td>1232.387641</td>\n",
       "      <td>0.875860</td>\n",
       "      <td>0.436084</td>\n",
       "      <td>1566.783656</td>\n",
       "      <td>670.257316</td>\n",
       "      <td>0.747395</td>\n",
       "      <td>1869.640953</td>\n",
       "      <td>108.026882</td>\n",
       "      <td>4250.653466</td>\n",
       "      <td>0.356678</td>\n",
       "      <td>593.767516</td>\n",
       "      <td>457.543378</td>\n",
       "      <td>315.740755</td>\n",
       "      <td>282.011644</td>\n",
       "      <td>0.772755</td>\n",
       "      <td>1.251430</td>\n",
       "    </tr>\n",
       "    <tr>\n",
       "      <th>bin.6</th>\n",
       "      <td>820.872805</td>\n",
       "      <td>392.881731</td>\n",
       "      <td>1427.905710</td>\n",
       "      <td>1033.761424</td>\n",
       "      <td>1884.339618</td>\n",
       "      <td>1335.147536</td>\n",
       "      <td>1027.807284</td>\n",
       "      <td>850.342196</td>\n",
       "      <td>427.134461</td>\n",
       "      <td>2391.501197</td>\n",
       "      <td>936.681889</td>\n",
       "      <td>999.273162</td>\n",
       "      <td>1143.743857</td>\n",
       "      <td>1187.660153</td>\n",
       "      <td>1670.022745</td>\n",
       "      <td>1719.723610</td>\n",
       "      <td>1136.902519</td>\n",
       "      <td>1071.641137</td>\n",
       "    </tr>\n",
       "    <tr>\n",
       "      <th>bin.7</th>\n",
       "      <td>1.452063</td>\n",
       "      <td>681.886830</td>\n",
       "      <td>2.467008</td>\n",
       "      <td>1.347894</td>\n",
       "      <td>3.084744</td>\n",
       "      <td>1.287979</td>\n",
       "      <td>2124.191118</td>\n",
       "      <td>2.312693</td>\n",
       "      <td>714.809488</td>\n",
       "      <td>7.140755</td>\n",
       "      <td>590.194971</td>\n",
       "      <td>0.747525</td>\n",
       "      <td>1093.414384</td>\n",
       "      <td>1124.427189</td>\n",
       "      <td>6.459688</td>\n",
       "      <td>7.175036</td>\n",
       "      <td>1.496781</td>\n",
       "      <td>3.287205</td>\n",
       "    </tr>\n",
       "    <tr>\n",
       "      <th>bin.8</th>\n",
       "      <td>0.065351</td>\n",
       "      <td>3219.448810</td>\n",
       "      <td>0.223916</td>\n",
       "      <td>4.223711</td>\n",
       "      <td>0.698382</td>\n",
       "      <td>0.186461</td>\n",
       "      <td>889.316796</td>\n",
       "      <td>0.181546</td>\n",
       "      <td>3498.783627</td>\n",
       "      <td>1.199693</td>\n",
       "      <td>3366.910935</td>\n",
       "      <td>0.979570</td>\n",
       "      <td>71.465536</td>\n",
       "      <td>73.851083</td>\n",
       "      <td>1.211367</td>\n",
       "      <td>4.114233</td>\n",
       "      <td>0.088835</td>\n",
       "      <td>0.259990</td>\n",
       "    </tr>\n",
       "    <tr>\n",
       "      <th>bin.3</th>\n",
       "      <td>6.194380</td>\n",
       "      <td>23.178964</td>\n",
       "      <td>2.759951</td>\n",
       "      <td>0.475050</td>\n",
       "      <td>1.563200</td>\n",
       "      <td>2.555610</td>\n",
       "      <td>1.259343</td>\n",
       "      <td>6.237916</td>\n",
       "      <td>24.206000</td>\n",
       "      <td>137.042032</td>\n",
       "      <td>10.595311</td>\n",
       "      <td>0.333899</td>\n",
       "      <td>6.668268</td>\n",
       "      <td>6.639770</td>\n",
       "      <td>78.291586</td>\n",
       "      <td>79.491024</td>\n",
       "      <td>0.523699</td>\n",
       "      <td>0.491073</td>\n",
       "    </tr>\n",
       "  </tbody>\n",
       "</table>\n",
       "</div>"
      ],
      "text/plain": [
       "                SRR492186    SRR492066    SRR492182    SRR492188  \\\n",
       "Genomic bins                                                       \n",
       "bin.1          167.273691    67.688884    54.858154   102.432386   \n",
       "bin.4         9348.741359  7247.577187  4178.397657  8139.870719   \n",
       "bin.2            8.887730     5.406628     1.986297     5.838109   \n",
       "bin.5            0.552469  2034.534641  1232.387641     0.875860   \n",
       "bin.6          820.872805   392.881731  1427.905710  1033.761424   \n",
       "bin.7            1.452063   681.886830     2.467008     1.347894   \n",
       "bin.8            0.065351  3219.448810     0.223916     4.223711   \n",
       "bin.3            6.194380    23.178964     2.759951     0.475050   \n",
       "\n",
       "                 SRR492196    SRR492183     SRR492184    SRR492185  \\\n",
       "Genomic bins                                                         \n",
       "bin.1           335.756912    50.103235     96.383771   175.127948   \n",
       "bin.4         11597.033828  4115.242526  11633.667679  9219.720953   \n",
       "bin.2             8.348499     1.751119     31.799458     9.170054   \n",
       "bin.5             0.436084  1566.783656    670.257316     0.747395   \n",
       "bin.6          1884.339618  1335.147536   1027.807284   850.342196   \n",
       "bin.7             3.084744     1.287979   2124.191118     2.312693   \n",
       "bin.8             0.698382     0.186461    889.316796     0.181546   \n",
       "bin.3             1.563200     2.555610      1.259343     6.237916   \n",
       "\n",
       "                SRR492065    SRR492187    SRR492197    SRR492189    SRR492195  \\\n",
       "Genomic bins                                                                    \n",
       "bin.1           71.420624   190.391037    72.544371    97.521190    49.834345   \n",
       "bin.4         7240.045338  9979.380909  8745.103316  8308.156703  6646.119922   \n",
       "bin.2            6.087799    37.581807    19.275630     5.929623     3.451473   \n",
       "bin.5         1869.640953   108.026882  4250.653466     0.356678   593.767516   \n",
       "bin.6          427.134461  2391.501197   936.681889   999.273162  1143.743857   \n",
       "bin.7          714.809488     7.140755   590.194971     0.747525  1093.414384   \n",
       "bin.8         3498.783627     1.199693  3366.910935     0.979570    71.465536   \n",
       "bin.3           24.206000   137.042032    10.595311     0.333899     6.668268   \n",
       "\n",
       "                SRR492194    SRR492193    SRR492192    SRR492191    SRR492190  \n",
       "Genomic bins                                                                   \n",
       "bin.1           53.357374   172.449773   179.006341    14.685431    14.523105  \n",
       "bin.4         6550.505763  6267.155205  6151.257743  5780.879180  5267.858711  \n",
       "bin.2            3.259988     1.804228     1.629252     4.652603     4.583909  \n",
       "bin.5          457.543378   315.740755   282.011644     0.772755     1.251430  \n",
       "bin.6         1187.660153  1670.022745  1719.723610  1136.902519  1071.641137  \n",
       "bin.7         1124.427189     6.459688     7.175036     1.496781     3.287205  \n",
       "bin.8           73.851083     1.211367     4.114233     0.088835     0.259990  \n",
       "bin.3            6.639770    78.291586    79.491024     0.523699     0.491073  "
      ]
     },
     "execution_count": 67,
     "metadata": {},
     "output_type": "execute_result"
    }
   ],
   "source": [
    "import pandas as pd\n",
    "abundance = pd.read_csv(\"week13_data/abundance_table.tab\", \"\\t\", index_col= \"Genomic bins\")\n",
    "abundance"
   ]
  },
  {
   "cell_type": "code",
   "execution_count": 86,
   "metadata": {
    "scrolled": false
   },
   "outputs": [
    {
     "name": "stderr",
     "output_type": "stream",
     "text": [
      "/Users/cmdb/miniconda3/envs/cmdb/lib/python3.6/site-packages/pandas/core/frame.py:4308: SettingWithCopyWarning: \n",
      "A value is trying to be set on a copy of a slice from a DataFrame\n",
      "\n",
      "See the caveats in the documentation: https://pandas.pydata.org/pandas-docs/stable/user_guide/indexing.html#returning-a-view-versus-a-copy\n",
      "  errors=errors,\n"
     ]
    },
    {
     "data": {
      "text/html": [
       "<div>\n",
       "<style scoped>\n",
       "    .dataframe tbody tr th:only-of-type {\n",
       "        vertical-align: middle;\n",
       "    }\n",
       "\n",
       "    .dataframe tbody tr th {\n",
       "        vertical-align: top;\n",
       "    }\n",
       "\n",
       "    .dataframe thead th {\n",
       "        text-align: right;\n",
       "    }\n",
       "</style>\n",
       "<table border=\"1\" class=\"dataframe\">\n",
       "  <thead>\n",
       "    <tr style=\"text-align: right;\">\n",
       "      <th></th>\n",
       "      <th>day1</th>\n",
       "      <th>day2</th>\n",
       "      <th>day3</th>\n",
       "      <th>day4</th>\n",
       "      <th>day5</th>\n",
       "      <th>day6</th>\n",
       "      <th>day7</th>\n",
       "      <th>day8</th>\n",
       "    </tr>\n",
       "    <tr>\n",
       "      <th>Genomic bins</th>\n",
       "      <th></th>\n",
       "      <th></th>\n",
       "      <th></th>\n",
       "      <th></th>\n",
       "      <th></th>\n",
       "      <th></th>\n",
       "      <th></th>\n",
       "      <th></th>\n",
       "    </tr>\n",
       "  </thead>\n",
       "  <tbody>\n",
       "    <tr>\n",
       "      <th>Staphylococcus haemolyticus</th>\n",
       "      <td>50.103235</td>\n",
       "      <td>167.273691</td>\n",
       "      <td>102.432386</td>\n",
       "      <td>97.521190</td>\n",
       "      <td>14.523105</td>\n",
       "      <td>172.449773</td>\n",
       "      <td>53.357374</td>\n",
       "      <td>72.544371</td>\n",
       "    </tr>\n",
       "    <tr>\n",
       "      <th>Enterococcus faecalis</th>\n",
       "      <td>4115.242526</td>\n",
       "      <td>9348.741359</td>\n",
       "      <td>8139.870719</td>\n",
       "      <td>8308.156703</td>\n",
       "      <td>5267.858711</td>\n",
       "      <td>6267.155205</td>\n",
       "      <td>6550.505763</td>\n",
       "      <td>8745.103316</td>\n",
       "    </tr>\n",
       "    <tr>\n",
       "      <th>Leuconostoc citreum</th>\n",
       "      <td>1.751119</td>\n",
       "      <td>8.887730</td>\n",
       "      <td>5.838109</td>\n",
       "      <td>5.929623</td>\n",
       "      <td>4.583909</td>\n",
       "      <td>1.804228</td>\n",
       "      <td>3.259988</td>\n",
       "      <td>19.275630</td>\n",
       "    </tr>\n",
       "    <tr>\n",
       "      <th>Cutibacterium avidum</th>\n",
       "      <td>1566.783656</td>\n",
       "      <td>0.552469</td>\n",
       "      <td>0.875860</td>\n",
       "      <td>0.356678</td>\n",
       "      <td>1.251430</td>\n",
       "      <td>315.740755</td>\n",
       "      <td>457.543378</td>\n",
       "      <td>4250.653466</td>\n",
       "    </tr>\n",
       "    <tr>\n",
       "      <th>Staphylococcus epidermidis</th>\n",
       "      <td>1335.147536</td>\n",
       "      <td>820.872805</td>\n",
       "      <td>1033.761424</td>\n",
       "      <td>999.273162</td>\n",
       "      <td>1071.641137</td>\n",
       "      <td>1670.022745</td>\n",
       "      <td>1187.660153</td>\n",
       "      <td>936.681889</td>\n",
       "    </tr>\n",
       "    <tr>\n",
       "      <th>Staphylococcus aureus</th>\n",
       "      <td>1.287979</td>\n",
       "      <td>1.452063</td>\n",
       "      <td>1.347894</td>\n",
       "      <td>0.747525</td>\n",
       "      <td>3.287205</td>\n",
       "      <td>6.459688</td>\n",
       "      <td>1124.427189</td>\n",
       "      <td>590.194971</td>\n",
       "    </tr>\n",
       "    <tr>\n",
       "      <th>Anaerococcus prevotii</th>\n",
       "      <td>0.186461</td>\n",
       "      <td>0.065351</td>\n",
       "      <td>4.223711</td>\n",
       "      <td>0.979570</td>\n",
       "      <td>0.259990</td>\n",
       "      <td>1.211367</td>\n",
       "      <td>73.851083</td>\n",
       "      <td>3366.910935</td>\n",
       "    </tr>\n",
       "    <tr>\n",
       "      <th>Staphylococcus lugdunensis</th>\n",
       "      <td>2.555610</td>\n",
       "      <td>6.194380</td>\n",
       "      <td>0.475050</td>\n",
       "      <td>0.333899</td>\n",
       "      <td>0.491073</td>\n",
       "      <td>78.291586</td>\n",
       "      <td>6.639770</td>\n",
       "      <td>10.595311</td>\n",
       "    </tr>\n",
       "  </tbody>\n",
       "</table>\n",
       "</div>"
      ],
      "text/plain": [
       "                                    day1         day2         day3  \\\n",
       "Genomic bins                                                         \n",
       "Staphylococcus haemolyticus    50.103235   167.273691   102.432386   \n",
       "Enterococcus faecalis        4115.242526  9348.741359  8139.870719   \n",
       "Leuconostoc citreum             1.751119     8.887730     5.838109   \n",
       "Cutibacterium avidum         1566.783656     0.552469     0.875860   \n",
       "Staphylococcus epidermidis   1335.147536   820.872805  1033.761424   \n",
       "Staphylococcus aureus           1.287979     1.452063     1.347894   \n",
       "Anaerococcus prevotii           0.186461     0.065351     4.223711   \n",
       "Staphylococcus lugdunensis      2.555610     6.194380     0.475050   \n",
       "\n",
       "                                    day4         day5         day6  \\\n",
       "Genomic bins                                                         \n",
       "Staphylococcus haemolyticus    97.521190    14.523105   172.449773   \n",
       "Enterococcus faecalis        8308.156703  5267.858711  6267.155205   \n",
       "Leuconostoc citreum             5.929623     4.583909     1.804228   \n",
       "Cutibacterium avidum            0.356678     1.251430   315.740755   \n",
       "Staphylococcus epidermidis    999.273162  1071.641137  1670.022745   \n",
       "Staphylococcus aureus           0.747525     3.287205     6.459688   \n",
       "Anaerococcus prevotii           0.979570     0.259990     1.211367   \n",
       "Staphylococcus lugdunensis      0.333899     0.491073    78.291586   \n",
       "\n",
       "                                    day7         day8  \n",
       "Genomic bins                                           \n",
       "Staphylococcus haemolyticus    53.357374    72.544371  \n",
       "Enterococcus faecalis        6550.505763  8745.103316  \n",
       "Leuconostoc citreum             3.259988    19.275630  \n",
       "Cutibacterium avidum          457.543378  4250.653466  \n",
       "Staphylococcus epidermidis   1187.660153   936.681889  \n",
       "Staphylococcus aureus        1124.427189   590.194971  \n",
       "Anaerococcus prevotii          73.851083  3366.910935  \n",
       "Staphylococcus lugdunensis      6.639770    10.595311  "
      ]
     },
     "execution_count": 86,
     "metadata": {},
     "output_type": "execute_result"
    }
   ],
   "source": [
    "abundance.rename(index = {'bin.1':'Staphylococcus haemolyticus', 'bin.4':'Enterococcus faecalis', 'bin.2':'Leuconostoc citreum', 'bin.5':'Cutibacterium avidum','bin.6':'Staphylococcus epidermidis', 'bin.7':'Staphylococcus aureus','bin.8':'Anaerococcus prevotii', 'bin.3':'Staphylococcus lugdunensis'}, inplace = True)\n",
    "abundance\n",
    "\n",
    "bins_select_df = abundance[['SRR492183','SRR492186','SRR492188','SRR492189', 'SRR492190','SRR492193','SRR492194','SRR492197']]\n",
    "bins_select_df.rename(columns = {'SRR492183':'day1', 'SRR492186':'day2', 'SRR492188':'day3','SRR492189':'day4','SRR492190':'day5','SRR492193':'day6','SRR492194':'day7','SRR492197':'day8'}, inplace=True)\n",
    "\n",
    "bins_select_df\n"
   ]
  },
  {
   "cell_type": "code",
   "execution_count": 90,
   "metadata": {},
   "outputs": [
    {
     "data": {
      "image/png": "[encoded data removed]",
      "text/plain": [
       "<Figure size 432x288 with 2 Axes>"
      ]
     },
     "metadata": {
      "needs_background": "light"
     },
     "output_type": "display_data"
    }
   ],
   "source": [
    "import seaborn as sb \n",
    "import matplotlib.pyplot as plt\n",
    "\n",
    "ax = plt.axes()\n",
    "sb.heatmap(bins_select_df, ax = ax,cmap = 'viridis')\n",
    "ax.set_title('Most abundant species for all days')\n",
    "plt.show()"
   ]
  },
  {
   "cell_type": "markdown",
   "metadata": {},
   "source": [
    "## Question 5: Compare the results of the individual genome \n",
    "abundance analysis to the conclusions you derived from looking at \n",
    "the read taxonomy distributions (from Step 1). Do they agree with each other? What is different?"
   ]
  },
  {
   "cell_type": "markdown",
   "metadata": {},
   "source": [
    "The species that were present in the visuals are the same as those in the heatmap; however, the abundance changes are different. "
   ]
  },
  {
   "cell_type": "code",
   "execution_count": null,
   "metadata": {},
   "outputs": [],
   "source": []
  }
 ],
 "metadata": {
  "kernelspec": {
   "display_name": "Python 3",
   "language": "python",
   "name": "python3"
  },
  "language_info": {
   "codemirror_mode": {
    "name": "ipython",
    "version": 3
   },
   "file_extension": ".py",
   "mimetype": "text/x-python",
   "name": "python",
   "nbconvert_exporter": "python",
   "pygments_lexer": "ipython3",
   "version": "3.6.10"
  }
 },
 "nbformat": 4,
 "nbformat_minor": 4
}
